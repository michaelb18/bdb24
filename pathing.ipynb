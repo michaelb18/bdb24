{
 "cells": [
  {
   "cell_type": "code",
   "execution_count": 1,
   "id": "dd9672ce-c9b7-4df9-b26d-12d1facaa9c7",
   "metadata": {},
   "outputs": [],
   "source": [
    "#%pip install pandas\n",
    "#%pip install plotly\n",
    "#%pip install matplotlib\n",
    "#%pip install seaborn\n",
    "import numpy as np\n",
    "import pandas as pd\n",
    "from pandas import read_csv\n",
    "import os\n",
    "import sys\n",
    "from scipy.stats import multivariate_normal\n",
    "from matplotlib import pyplot as plt\n",
    "sys.path.append(os.getcwd())\n",
    "from animate_play import animate_play\n",
    "%matplotlib inline"
   ]
  },
  {
   "cell_type": "code",
   "execution_count": 2,
   "id": "8cb872cc-e555-4e77-91c8-afd1cbeb3a13",
   "metadata": {},
   "outputs": [],
   "source": [
    "tracking_data = read_csv('tracking_week_1.csv')\n",
    "plays = read_csv('plays.csv')"
   ]
  },
  {
   "cell_type": "code",
   "execution_count": 3,
   "id": "18228748-395c-428b-a9b9-1eff56655860",
   "metadata": {},
   "outputs": [
    {
     "data": {
      "text/plain": [
       "\"def get_path_to_endzone(gameId, playId):\\n    play = tracking_data[tracking_data['playId'] == playId][tracking_data['gameId'] == gameId]\\n    defense = plays[plays['playId'] == playId][plays['gameId'] == gameId]['defensiveTeam'].values[0]\\n    defense = play[play['club'] == defense]\\n    if len(defense[defense['event'] == 'tackle']) > 0 and len(play[play['event'] == 'tackle'][play['club'] == 'football']) > 0:\\n        frameId = defense[defense['event'] == 'tackle']['frameId'].values[0]\\n        defense = defense[defense['frameId'] == frameId-5]\\n        runnerId = plays[plays['gameId'] == gameId][plays['playId'] == playId]['ballCarrierId'].values[0]\\n        football = play[play['frameId'] == frameId-5][play['nflId'] == runnerId]\\n        football = np.array([football['x'].values[0], football['y'].values[0]])\\n\\n        defense = defense[defense['nflId'] != runnerId]\\n        grid = np.zeros((120, 53))\\n        for x_d, y_d  in zip(defense['y'], defense['x']):\\n            #grid[int(y_d),int(x_d)] = 1\\n            #for off_y in range(-1, 1):\\n            #    for off_x in range(-5, 5):\\n            #        grid[max(min(int(y_d + off_y), 120), 0), max(min(int(x_d + off_x), 53), 0)] = 1\\n\\n            x_grid, y_grid = np.meshgrid(np.linspace(0, 120, 120), np.linspace(0, 53, 53), indexing = 'ij')\\n            player_dist = multivariate_normal(np.array([y_d, x_d]), np.eye(2) * 2).pdf(np.dstack((x_grid, y_grid)))\\n            grid = grid + player_dist[:, ::-1]     \\n        #plt.imshow(grid.T, cmap = 'gray')\\n        #plt.show()\\n        #print(football)\\n        #print(grid[int(football[0]), int(football[1])])\\n        path = search(grid, [int(football[0]), int(football[1])], 1)\\n        return path\""
      ]
     },
     "execution_count": 3,
     "metadata": {},
     "output_type": "execute_result"
    }
   ],
   "source": [
    "from mpl_toolkits.mplot3d import Axes3D\n",
    "\n",
    "def search(grid, init, cost):\n",
    "    # Copy and paste your solution code from the previous exercise (#10)\n",
    "    # TODO: CHANGE/UPDATE CODE\n",
    "\n",
    "    delta = [[-1, 0],  # go up\n",
    "         [0, -1],  # go left\n",
    "         [1, 0],  # go down\n",
    "         [0, 1]]  # go right\n",
    "    \n",
    "    path = None\n",
    "    expand = []\n",
    "    policy = np.ones_like(grid) * 9\n",
    "    expand = np.ones_like(grid) * -1\n",
    "    action = [[-1 for col in range(len(grid[0]))] for row in range(len(grid))]\n",
    "    # TODO: ADD CODE HERE\n",
    "    closed_list = [[0 for col in range(len(grid[0]))]for row in range(len(grid))]\n",
    "    closed_list[init[0]][init[1]] = 1\n",
    "    x = init[0]\n",
    "    y = init[1]\n",
    "    g = 0\n",
    "    \n",
    "    open_list = [[g, x, y]]\n",
    "    \n",
    "    found = False\n",
    "    resign = False\n",
    "    step = 0\n",
    "    while found is False and resign is False:\n",
    "        if len(open_list) == 0:\n",
    "            resign = True\n",
    "            path = 'fail'\n",
    "            print(path)\n",
    "        else:\n",
    "            open_list.sort()\n",
    "            open_list.reverse()\n",
    "            next_node = open_list.pop()\n",
    "            x = next_node[1]\n",
    "            y = next_node[2]\n",
    "            g = next_node[0]\n",
    "            expand[x, y] = step\n",
    "            if x == 10.:\n",
    "                found = True\n",
    "                path = next_node\n",
    "            else:\n",
    "                for i in range(len(delta)):\n",
    "                    x2 = x + delta[i][0]\n",
    "                    y2 = y + delta[i][1]\n",
    "                    if 0<=x2 and x2 < len(grid) and 0<=y2 and y2<len(grid[0]):\n",
    "                        if closed_list[x2][y2] ==0:# and grid[x2][y2] == 0:\n",
    "                            g2 = g + grid[x2][y2]\n",
    "                            #else:\n",
    "                            #    g2 = g + 2 * cost\n",
    "                            open_list.append([g2, x2, y2])\n",
    "                            closed_list[x2][y2] = 1\n",
    "                            action[x2][y2] = i\n",
    "                            \n",
    "        step = step + 1\n",
    "    fullpath = []\n",
    "    x = path[1]\n",
    "    y = path[2]\n",
    "    fullpath.insert(0, [x, y])\n",
    "    while x != init[0] or y != init[1]:\n",
    "        x2 = x - delta[action[x][y]][0]\n",
    "        y2 = y - delta[action[x][y]][1]\n",
    "        x = x2\n",
    "        y = y2\n",
    "        fullpath.insert(0, [x, y])\n",
    "    #    for y in range(expand.shape[0])\n",
    "    return fullpath\n",
    "    \n",
    "'''def get_path_to_endzone(gameId, playId):\n",
    "    play = tracking_data[tracking_data['playId'] == playId][tracking_data['gameId'] == gameId]\n",
    "    defense = plays[plays['playId'] == playId][plays['gameId'] == gameId]['defensiveTeam'].values[0]\n",
    "    defense = play[play['club'] == defense]\n",
    "    if len(defense[defense['event'] == 'tackle']) > 0 and len(play[play['event'] == 'tackle'][play['club'] == 'football']) > 0:\n",
    "        frameId = defense[defense['event'] == 'tackle']['frameId'].values[0]\n",
    "        defense = defense[defense['frameId'] == frameId-5]\n",
    "        runnerId = plays[plays['gameId'] == gameId][plays['playId'] == playId]['ballCarrierId'].values[0]\n",
    "        football = play[play['frameId'] == frameId-5][play['nflId'] == runnerId]\n",
    "        football = np.array([football['x'].values[0], football['y'].values[0]])\n",
    "\n",
    "        defense = defense[defense['nflId'] != runnerId]\n",
    "        grid = np.zeros((120, 53))\n",
    "        for x_d, y_d  in zip(defense['y'], defense['x']):\n",
    "            #grid[int(y_d),int(x_d)] = 1\n",
    "            #for off_y in range(-1, 1):\n",
    "            #    for off_x in range(-5, 5):\n",
    "            #        grid[max(min(int(y_d + off_y), 120), 0), max(min(int(x_d + off_x), 53), 0)] = 1\n",
    "\n",
    "            x_grid, y_grid = np.meshgrid(np.linspace(0, 120, 120), np.linspace(0, 53, 53), indexing = 'ij')\n",
    "            player_dist = multivariate_normal(np.array([y_d, x_d]), np.eye(2) * 2).pdf(np.dstack((x_grid, y_grid)))\n",
    "            grid = grid + player_dist[:, ::-1]     \n",
    "        #plt.imshow(grid.T, cmap = 'gray')\n",
    "        #plt.show()\n",
    "        #print(football)\n",
    "        #print(grid[int(football[0]), int(football[1])])\n",
    "        path = search(grid, [int(football[0]), int(football[1])], 1)\n",
    "        return path'''"
   ]
  },
  {
   "cell_type": "code",
   "execution_count": 4,
   "id": "705597a4-a409-4f85-b32c-740dc3e5aab1",
   "metadata": {},
   "outputs": [],
   "source": [
    "#path = np.array(get_path_to_endzone(2022090800, 2184))\n",
    "#print(path)"
   ]
  },
  {
   "cell_type": "code",
   "execution_count": 1,
   "id": "71d7dac1-2fbc-4853-b27c-08ac917e7971",
   "metadata": {},
   "outputs": [],
   "source": [
    "import plotly.graph_objs as go\n",
    "import plotly.offline as pyo\n",
    "from matplotlib import pyplot as plt\n",
    "import os\n",
    "import sys\n",
    "sys.path.append(os.getcwd())\n",
    "from animate_play import animate_play\n",
    "%matplotlib inline\n",
    "fig = animate_play(2022090800, 2184)\n",
    "plt.show()\n"
   ]
  },
  {
   "cell_type": "code",
   "execution_count": null,
   "id": "ed57232e-3897-434b-96d6-181f272aa497",
   "metadata": {},
   "outputs": [],
   "source": []
  }
 ],
 "metadata": {
  "kernelspec": {
   "display_name": "Python 3 (ipykernel)",
   "language": "python",
   "name": "python3"
  },
  "language_info": {
   "codemirror_mode": {
    "name": "ipython",
    "version": 3
   },
   "file_extension": ".py",
   "mimetype": "text/x-python",
   "name": "python",
   "nbconvert_exporter": "python",
   "pygments_lexer": "ipython3",
   "version": "3.11.4"
  }
 },
 "nbformat": 4,
 "nbformat_minor": 5
}
